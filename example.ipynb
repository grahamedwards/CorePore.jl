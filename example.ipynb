{
 "cells": [
  {
   "cell_type": "code",
   "execution_count": 1,
   "metadata": {},
   "outputs": [],
   "source": [
    "using CorePore"
   ]
  },
  {
   "cell_type": "code",
   "execution_count": 2,
   "metadata": {},
   "outputs": [
    {
     "data": {
      "text/plain": [
       "Proposal(20.0, 1.0e-5, 0.0001, 0.1, 0.1, 10.0, 10.0, 1.0)"
      ]
     },
     "metadata": {},
     "output_type": "display_data"
    }
   ],
   "source": [
    "p = Proposal(5320., 1e-4,1e-3,3.5, 4.2, 1000, deepbonney()...)\n",
    "\n",
    "jumpsize = Proposal(20., .1e-4, .1e-3, .1, .1,10, 10, 1.)\n",
    "\n",
    "climate, k = LR04(), Constants()\n",
    "\n",
    "priors = ProposalPriors(climate, k)\n",
    "\n",
    "chains = porewatermetropolis(p, jumpsize, priors, andrill2a(), climate, k; burnin=1000, chainsteps=1000, k=Constants(), seawater=mcmurdosound(), onlychloride=true)"
   ]
  }
 ],
 "metadata": {
  "kernelspec": {
   "display_name": "Julia 1.10.4",
   "language": "julia",
   "name": "julia-1.10"
  },
  "language_info": {
   "file_extension": ".jl",
   "mimetype": "application/julia",
   "name": "julia",
   "version": "1.10.4"
  }
 },
 "nbformat": 4,
 "nbformat_minor": 2
}
